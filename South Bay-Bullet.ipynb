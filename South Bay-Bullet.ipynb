{
 "cells": [
  {
   "cell_type": "code",
   "execution_count": 105,
   "metadata": {},
   "outputs": [],
   "source": [
    "import pandas as pd"
   ]
  },
  {
   "cell_type": "code",
   "execution_count": 106,
   "metadata": {},
   "outputs": [],
   "source": [
    "cols = [\"description\"]"
   ]
  },
  {
   "cell_type": "code",
   "execution_count": 107,
   "metadata": {},
   "outputs": [],
   "source": [
    "df = pd.read_csv(\"South Bay International + Category - Copy of TEST Sheet.csv\", usecols=cols)"
   ]
  },
  {
   "cell_type": "code",
   "execution_count": 108,
   "metadata": {},
   "outputs": [],
   "source": [
    "df[\"description\"] = df[\"description\"].fillna('')"
   ]
  },
  {
   "cell_type": "code",
   "execution_count": 109,
   "metadata": {},
   "outputs": [],
   "source": [
    "def description(row):\n",
    "    if 'MATTRESS FEATURES:' in row[\"description\"]:\n",
    "        spl_word_desc = 'MATTRESS FEATURES:'\n",
    "        res_desc = row[\"description\"].partition(spl_word_desc)[0]\n",
    "        return res_desc\n",
    "    elif 'ADJUSTABLE BASE FEATURES' in row[\"description\"] and 'MATTRESS FEATURES:' not in row[\"description\"]:\n",
    "        spl_word_adj = 'ADJUSTABLE BASE FEATURES:'\n",
    "        res_adj = row[\"description\"].partition(spl_word_adj)[0]\n",
    "        return res_adj\n",
    "    else:\n",
    "        return row[\"description\"]"
   ]
  },
  {
   "cell_type": "code",
   "execution_count": 110,
   "metadata": {},
   "outputs": [],
   "source": [
    "def split_second_part(row):\n",
    "    spl_word_1 = 'SET-UP, DELIVERY, SAFETY, & WARRANTY:'\n",
    "    res_1 = row[\"description\"].partition(spl_word_1)[2]\n",
    "    res_1_full = 'SET-UP, DELIVERY, SAFETY, & WARRANTY:' + res_1\n",
    "    return res_1_full        "
   ]
  },
  {
   "cell_type": "code",
   "execution_count": 111,
   "metadata": {},
   "outputs": [],
   "source": [
    "def split_first_part(row):\n",
    "    if 'MATTRESS FEATURES:' in row[\"description\"]:\n",
    "        spl_word_2 = 'MATTRESS FEATURES:'\n",
    "        spl_word_3 = 'SET-UP, DELIVERY, SAFETY, & WARRANTY:'\n",
    "        res_1 = row[\"description\"].partition(spl_word_2)[2]\n",
    "        res_2 = res_1.partition(spl_word_3)[0]\n",
    "        res_2_full = 'MATTRESS FEATURES:' + res_2\n",
    "        return res_2_full\n",
    "    else:\n",
    "        spl_word_4 = 'ADJUSTABLE BASE FEATURES:'\n",
    "        spl_word_5 = 'SET-UP, DELIVERY, SAFETY, & WARRANTY:'\n",
    "        res_3 = my_string.partition(spl_word_4)[2]\n",
    "        res_4 = res_3.partition(spl_word_5)[0]\n",
    "        res_5_full = 'ADJUSTABLE BASE FEATURES:' + res_4\n",
    "        return res_5_full    "
   ]
  },
  {
   "cell_type": "code",
   "execution_count": 112,
   "metadata": {},
   "outputs": [],
   "source": [
    "def adj_base(row):\n",
    "    if 'ADJUSTABLE BASE FEATURES:' in row[\"featureBullet.0\"]:\n",
    "        spl_word_5 = 'ADJUSTABLE BASE FEATURES:'\n",
    "        spl_word_6 = 'ADJUSTABLE BASE POSITIONS:'\n",
    "        res_1 = row[\"featureBullet.0\"].partition(spl_word_5)[2]\n",
    "        res_2 = res_1.partition(spl_word_6)[0]\n",
    "        res_2_full = 'ADJUSTABLE BASE FEATURES:' + res_2\n",
    "        return res_2_full"
   ]
  },
  {
   "cell_type": "code",
   "execution_count": 113,
   "metadata": {},
   "outputs": [],
   "source": [
    "def adj_pos(row):\n",
    "    if 'ADJUSTABLE BASE FEATURES:' in row[\"featureBullet.0\"]:\n",
    "        spl_word_1 = 'ADJUSTABLE BASE POSITIONS:'\n",
    "        res_1 = row[\"featureBullet.0\"].partition(spl_word_1)[2]\n",
    "        res_1_full = 'ADJUSTABLE BASE POSITIONS:' + res_1\n",
    "        return res_1_full"
   ]
  },
  {
   "cell_type": "code",
   "execution_count": 114,
   "metadata": {},
   "outputs": [],
   "source": [
    "def matt_feat(row):\n",
    "    if 'MATTRESS FEATURES:' not in row[\"featureBullet.0\"]:\n",
    "        pass\n",
    "    elif 'ADJUSTABLE BASE FEATURES:' in row[\"featureBullet.0\"]:\n",
    "        spl_word_1 = 'ADJUSTABLE BASE FEATURES:'\n",
    "        res_1 = row[\"featureBullet.0\"].partition(spl_word_1)[0]\n",
    "        return res_1"
   ]
  },
  {
   "cell_type": "code",
   "execution_count": 115,
   "metadata": {},
   "outputs": [],
   "source": [
    "df[\"description.1\"] = df.apply(lambda row: description(row), axis=1)\n",
    "df[\"featureBullet.0\"] = df.apply(lambda row: split_first_part(row), axis=1)\n",
    "df[\"featureBullet.1\"] = df.apply(lambda row: split_second_part(row), axis=1)\n",
    "df[\"featureBullet.2\"] = df.apply(lambda row: adj_base(row), axis=1)\n",
    "df[\"featureBullet.3\"] = df.apply(lambda row: adj_pos(row), axis=1)\n",
    "df[\"featureBullet.4\"] = df.apply(lambda row: matt_feat(row), axis=1)"
   ]
  },
  {
   "cell_type": "code",
   "execution_count": 116,
   "metadata": {},
   "outputs": [],
   "source": [
    "df = df.drop('description', 1)\n",
    "df = df.drop('featureBullet.0', 1)"
   ]
  },
  {
   "cell_type": "code",
   "execution_count": 117,
   "metadata": {},
   "outputs": [],
   "source": [
    "df = df.rename(columns={'description.1': 'description', 'featureBullet.4': 'featureBullet.0', 'featureBullet.1': 'featureBullet.3', 'featureBullet.2': 'featureBullet.1', 'featureBullet.3': 'featureBullet.2'})"
   ]
  },
  {
   "cell_type": "code",
   "execution_count": 118,
   "metadata": {},
   "outputs": [],
   "source": [
    "cols_final = ['description', 'featureBullet.0', 'featureBullet.1', 'featureBullet.2', 'featureBullet.3']\n",
    "df = df[cols_final]"
   ]
  },
  {
   "cell_type": "code",
   "execution_count": 119,
   "metadata": {},
   "outputs": [],
   "source": [
    "df.loc[df[\"featureBullet.0\"] == 'MATTRESS FEATURES:', [\"featureBullet.0\"]] = ''\n",
    "df.loc[df[\"featureBullet.3\"] == 'SET-UP, DELIVERY, SAFETY, & WARRANTY:', [\"featureBullet.3\"]] = ''"
   ]
  },
  {
   "cell_type": "code",
   "execution_count": 120,
   "metadata": {},
   "outputs": [],
   "source": [
    "df.to_csv(\"South Bay-Bullet_Done.csv\", index=False)"
   ]
  },
  {
   "cell_type": "code",
   "execution_count": null,
   "metadata": {},
   "outputs": [],
   "source": []
  }
 ],
 "metadata": {
  "kernelspec": {
   "display_name": "Python 3",
   "language": "python",
   "name": "python3"
  },
  "language_info": {
   "codemirror_mode": {
    "name": "ipython",
    "version": 3
   },
   "file_extension": ".py",
   "mimetype": "text/x-python",
   "name": "python",
   "nbconvert_exporter": "python",
   "pygments_lexer": "ipython3",
   "version": "3.7.4"
  }
 },
 "nbformat": 4,
 "nbformat_minor": 2
}
